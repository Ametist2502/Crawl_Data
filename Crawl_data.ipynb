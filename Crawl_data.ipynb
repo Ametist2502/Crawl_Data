{
 "cells": [
  {
   "cell_type": "code",
   "execution_count": 1,
   "id": "7b5a7912-4c34-451c-914c-4f364c02e7bc",
   "metadata": {},
   "outputs": [],
   "source": [
    "# Đầu tiên chúng ta cần import những thư viện cần thiết\n",
    "from selenium import webdriver\n",
    "from selenium.webdriver.common.keys import Keys\n",
    "from webdriver_manager.firefox import GeckoDriverManager\n",
    "from selenium.webdriver.support.select import Select\n",
    "import time\n",
    "from bs4 import BeautifulSoup"
   ]
  },
  {
   "cell_type": "code",
   "execution_count": null,
   "id": "93142faf-2097-415c-8d88-ea097a5dfe8a",
   "metadata": {},
   "outputs": [],
   "source": [
    "# Setting path webdriver\n",
    "browser=webdriver.Firefox(executable_path=r'C:\\Users\\Admin MSI\\webdriver\\geckodriver.exe')\n",
    "# Tuỳ vào một số máy tính chúng ta sẽ phải thêm path vào dòng trên \n",
    "# Gán url trang web chúng ta muốn truy cập\n",
    "url = \"https://facebook.com\"\n",
    "browser.get(url)"
   ]
  },
  {
   "cell_type": "code",
   "execution_count": null,
   "id": "37033cd8-7671-4f14-a669-c276e9c42415",
   "metadata": {},
   "outputs": [],
   "source": [
    "#fill data login\n",
    "username='Fill your username/email'\n",
    "password='Fill your password'"
   ]
  },
  {
   "cell_type": "code",
   "execution_count": null,
   "id": "a36eccd5-dcaa-451e-9417-6ba61ac49f5a",
   "metadata": {},
   "outputs": [],
   "source": [
    "# Tìm đến các ô input để nhập dữ liệu vào\n",
    "# Find username box\n",
    "user_box = browser.find_element_by_xpath('//*[@id=\"email\"]').send_keys(username)\n",
    "#Find password box and submit btn\n",
    "pass_box = browser.find_element_by_xpath('//*[@id=\"pass\"]').send_keys(password)\n",
    "submit_btn = browser.find_element_by_xpath('/html/body/div[1]/div[1]/div[1]/div/div/div/div[2]/div/div[1]/form/div[2]').submit()"
   ]
  },
  {
   "cell_type": "code",
   "execution_count": null,
   "id": "610dc148-bc0d-4058-ae40-6bdf92c3e25a",
   "metadata": {},
   "outputs": [],
   "source": [
    "# Truy cập vào trang bạn muốn crawl data\n",
    "time.sleep(3) # dùng time sleep để delay giúp trang web load được ổn định hơn \n",
    "browser.get('Dill your page facebook you want to crawl')"
   ]
  },
  {
   "cell_type": "code",
   "execution_count": null,
   "id": "49961292-710f-493b-8118-3131dd105bac",
   "metadata": {},
   "outputs": [],
   "source": [
    "while True:\n",
    "    # Cuộn xuống cuối trang\n",
    "    last_height = browser.execute_script(\"return document.body.scrollHeight\")\n",
    "    while True:\n",
    "        browser.execute_script(\"window.scrollTo(0, document.body.scrollHeight);\")\n",
    "        time.sleep(5) # tạm dừng để trang web tải thêm dữ liệu\n",
    "        new_height = browser.execute_script(\"return document.body.scrollHeight\")\n",
    "        if new_height == last_height: # Nếu không có thêm dữ liệu nữa thì dừng\n",
    "            break\n",
    "        last_height = new_height\n",
    "        \n",
    "    # Mở hết các thẻ div có role='button' và inner html='Xem thêm'\n",
    "    try:\n",
    "        xem_them_buttons = browser.find_elements_by_xpath(\"//div[@role='button' and contains(text(), 'Xem thêm')]\")\n",
    "        if not xem_them_buttons: # Nếu không còn thẻ nào nữa thì dừng\n",
    "            break\n",
    "        for button in xem_them_buttons:\n",
    "            browser.execute_script(\"arguments[0].click();\", button) # Click vào button để mở thêm dữ liệu\n",
    "            time.sleep(2) # tạm dừng để trang web tải thêm dữ liệu\n",
    "    except:\n",
    "        break\n",
    "    break"
   ]
  },
  {
   "cell_type": "code",
   "execution_count": null,
   "id": "ae41d733-0254-479b-8e04-4bb6e3bd7153",
   "metadata": {},
   "outputs": [],
   "source": [
    "page_source = browser.page_source # dòng này là để lấy toàn bộ source code của trang web\n",
    "soup = BeautifulSoup(browser.page_source, 'html.parser') # dòng này là dùng bs4 để truy cập các phần từ html tronng page_source"
   ]
  },
  {
   "cell_type": "code",
   "execution_count": null,
   "id": "13e56fd1-3d95-45f1-bbd5-5e52307f59cb",
   "metadata": {},
   "outputs": [],
   "source": [
    "# tìm đến thẻ div có class chứa nội dung cần lấy\n",
    "contents = soup.find_all('div', {'class':'x1iorvi4 x1pi30zi x1l90r2v x1swvt13'})"
   ]
  },
  {
   "cell_type": "code",
   "execution_count": null,
   "id": "1c58dc1a-557e-444c-87cd-fe3ce25d2e63",
   "metadata": {},
   "outputs": [],
   "source": [
    "# Xuất chúng ra các file txt\n",
    "for i, content in enumerate(contents):\n",
    "    with open(f'Content/file_{i}.txt', 'w', encoding='utf-8') as f:\n",
    "        f.write(content.text)"
   ]
  },
  {
   "cell_type": "code",
   "execution_count": null,
   "id": "792dfae0-c7a9-47c0-9f2a-312dbdbc599f",
   "metadata": {},
   "outputs": [],
   "source": [
    "browser.close()"
   ]
  }
 ],
 "metadata": {
  "kernelspec": {
   "display_name": "Python 3 (ipykernel)",
   "language": "python",
   "name": "python3"
  },
  "language_info": {
   "codemirror_mode": {
    "name": "ipython",
    "version": 3
   },
   "file_extension": ".py",
   "mimetype": "text/x-python",
   "name": "python",
   "nbconvert_exporter": "python",
   "pygments_lexer": "ipython3",
   "version": "3.9.7"
  }
 },
 "nbformat": 4,
 "nbformat_minor": 5
}
